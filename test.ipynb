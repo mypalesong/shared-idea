{
 "cells": [
  {
   "cell_type": "code",
   "execution_count": 1,
   "id": "28d21d78",
   "metadata": {},
   "outputs": [
    {
     "name": "stdout",
     "output_type": "stream",
     "text": [
      "Found 8 HTML files. Wrote files.json.\n"
     ]
    }
   ],
   "source": [
    "# generate_files_json.py\n",
    "import json, os\n",
    "\n",
    "EXCLUDES = {\"index.html\"}              # 목록에서 제외할 파일명\n",
    "ROOT = \".\"                             # 레포 루트\n",
    "RESULT = \"files.json\"\n",
    "\n",
    "html_files = []\n",
    "for base, _, files in os.walk(ROOT):\n",
    "    # .git, node_modules 등 숨김/불필요 폴더 스킵\n",
    "    parts = base.replace(\"\\\\\", \"/\").split(\"/\")\n",
    "    if any(p in {\".git\", \"node_modules\", \".github\"} for p in parts):\n",
    "        continue\n",
    "\n",
    "    for f in files:\n",
    "        if not f.lower().endswith(\".html\"):\n",
    "            continue\n",
    "        if f in EXCLUDES:\n",
    "            continue\n",
    "        rel = os.path.relpath(os.path.join(base, f), ROOT).replace(\"\\\\\", \"/\")\n",
    "        html_files.append(rel)\n",
    "\n",
    "html_files.sort()\n",
    "with open(RESULT, \"w\", encoding=\"utf-8\") as fp:\n",
    "    json.dump({\"files\": html_files}, fp, ensure_ascii=False, indent=2)\n",
    "\n",
    "print(f\"Found {len(html_files)} HTML files. Wrote {RESULT}.\")\n"
   ]
  }
 ],
 "metadata": {
  "kernelspec": {
   "display_name": "dagster",
   "language": "python",
   "name": "python3"
  },
  "language_info": {
   "codemirror_mode": {
    "name": "ipython",
    "version": 3
   },
   "file_extension": ".py",
   "mimetype": "text/x-python",
   "name": "python",
   "nbconvert_exporter": "python",
   "pygments_lexer": "ipython3",
   "version": "3.12.9"
  }
 },
 "nbformat": 4,
 "nbformat_minor": 5
}
